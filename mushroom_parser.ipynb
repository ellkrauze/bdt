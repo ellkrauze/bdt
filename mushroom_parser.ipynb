{
  "nbformat": 4,
  "nbformat_minor": 0,
  "metadata": {
    "colab": {
      "provenance": []
    },
    "kernelspec": {
      "name": "python3",
      "display_name": "Python 3"
    },
    "language_info": {
      "name": "python"
    }
  },
  "cells": [
    {
      "cell_type": "code",
      "execution_count": 18,
      "metadata": {
        "id": "96zlwimSOxib"
      },
      "outputs": [],
      "source": [
        "import requests\n",
        "import pandas as pd\n",
        "from bs4 import BeautifulSoup\n",
        "\n",
        "url = \"https://www.first-nature.com/fungi/index1binom.php\"\n",
        "\n",
        "response = requests.get(url)\n",
        "\n",
        "soup = BeautifulSoup(response.content, \"html.parser\")\n",
        "\n",
        "table = soup.find(\"table\")\n",
        "\n",
        "ids = []\n",
        "scientific_names = []\n",
        "families = []\n",
        "\n",
        "for row in table.find_all(\"tr\")[1:]:\n",
        "    columns = row.find_all(\"td\")\n",
        "\n",
        "    if len(columns) >= 3:\n",
        "        id_value = columns[0].text.strip().split()[0]\n",
        "        scientific_name = columns[0].text.strip().split(\" \", 1)[0]\n",
        "        family = columns[2].text.strip().split(\" \", 1)[0]\n",
        "\n",
        "        ids.append(id_value)\n",
        "        scientific_names.append(scientific_name)\n",
        "        families.append(family)\n"
      ]
    },
    {
      "cell_type": "code",
      "source": [
        "data = {\n",
        "    \"ID\": ids,\n",
        "    \"Family\": families,\n",
        "    \"Scientific Name\": scientific_names,\n",
        "}\n",
        "\n",
        "df = pd.DataFrame(data)\n",
        "\n",
        "df.drop_duplicates(subset=\"Scientific Name\", keep=\"first\", inplace=True)\n",
        "df = df.drop('ID', axis=1)\n",
        "output_file = \"mushroom_dataset.csv\""
      ],
      "metadata": {
        "id": "F1-GFtTRZTWQ"
      },
      "execution_count": 19,
      "outputs": []
    },
    {
      "cell_type": "code",
      "source": [
        "df.to_csv(output_file, index=False)"
      ],
      "metadata": {
        "id": "cezlFubqatRP"
      },
      "execution_count": 20,
      "outputs": []
    }
  ]
}